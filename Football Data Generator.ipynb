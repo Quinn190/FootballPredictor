{
 "cells": [
  {
   "cell_type": "markdown",
   "metadata": {},
   "source": [
    "# ** Using Machine Learning to try and beat the bookmakers **"
   ]
  },
  {
   "cell_type": "code",
   "execution_count": 43,
   "metadata": {},
   "outputs": [],
   "source": [
    "import pandas as pd\n",
    "import numpy as np\n",
    "from tqdm import tqdm"
   ]
  },
  {
   "cell_type": "markdown",
   "metadata": {},
   "source": [
    "**#1** Collecting Data\n",
    "\n",
    "The data comes in csv files, split up by league and season.\n",
    "Luckily each csv file is easily identifiable by a league code and a season code."
   ]
  },
  {
   "cell_type": "code",
   "execution_count": 44,
   "metadata": {},
   "outputs": [],
   "source": [
    "datasource_website = \"http://www.football-data.co.uk/mmz4281/\"\n",
    "\n",
    "\n",
    "LeagueCodes = [\"E0\",\"SP1\",\"I1\",\"D1\",\"F1\",\"N1\"]\n",
    "Seasons = [\"0405\",\"0506\",\"0607\",\"0708\",\"0809\",\"0910\",\"1112\",\"1213\",\"1314\",\"1415\",\"1516\",\"1617\",\"1718\"]\n",
    "\n",
    "EnglishLeagues = []\n",
    "SpanishLeagues = []\n",
    "ItalianLeagues = []\n",
    "GermanLeagues = []\n",
    "FrenchLeagues = []\n",
    "DutchLeagues = []\n",
    "\n",
    "\n",
    "#Relevant columns for feature generation\n",
    "required_columns = ['Div','HomeTeam','AwayTeam','FTHG','FTR','FTAG','B365H','B365D','B365A','BWH','BWD','BWA']\n",
    "\n",
    "\n",
    "\n",
    "AllLeagues = [EnglishLeagues,SpanishLeagues,ItalianLeagues,GermanLeagues,FrenchLeagues,DutchLeagues]"
   ]
  },
  {
   "cell_type": "markdown",
   "metadata": {},
   "source": [
    "Downloads the CSVs and stores them as an array of dataframes"
   ]
  },
  {
   "cell_type": "code",
   "execution_count": 45,
   "metadata": {},
   "outputs": [],
   "source": [
    "#download each individual season and append them to a list by country\n",
    "def group_databases(leaguearray, countrycode):\n",
    "    for season in Seasons:\n",
    "        url = datasource_website+\"/\"+ season +\"/\"+ countrycode\n",
    "        seasondata = pd.read_csv(url,usecols = required_columns,encoding = \"ISO-8859-1\")      \n",
    "        leaguearray.append(seasondata)\n",
    "    return leaguearray"
   ]
  },
  {
   "cell_type": "code",
   "execution_count": 46,
   "metadata": {},
   "outputs": [
    {
     "name": "stderr",
     "output_type": "stream",
     "text": [
      "100%|████████████████████████████████████████████████████████████████████████████████████| 6/6 [00:14<00:00,  2.42s/it]\n"
     ]
    }
   ],
   "source": [
    "for i in tqdm(range(0,len(AllLeagues))):\n",
    "    group_databases(AllLeagues[i],LeagueCodes[i])\n",
    "    \n"
   ]
  },
  {
   "cell_type": "markdown",
   "metadata": {},
   "source": [
    "**#2** Cleaning Data"
   ]
  },
  {
   "cell_type": "code",
   "execution_count": 47,
   "metadata": {},
   "outputs": [],
   "source": [
    "#Checking for null values in any of the DataFrames \n",
    "\n",
    "def check_null():\n",
    "    for i in range(0, len(AllLeagues)):\n",
    "        for j in range(0, len(Seasons)):\n",
    "            if(AllLeagues[i][j].isnull().values.any()) == True:\n",
    "                print(\"Null values in {} {}, Index {} {} \".format(LeagueCodes[i], Seasons[j], i, j))\n",
    "                \n",
    "                \n",
    "def check_extra_rows():\n",
    "    for i in range(0, len(AllLeagues)):\n",
    "        for j in range(0, len(Seasons)):\n",
    "            assert len(AllLeagues[i][j]) == 380 or 306\n",
    "            display(len(AllLeagues[i][j]))"
   ]
  },
  {
   "cell_type": "code",
   "execution_count": 48,
   "metadata": {},
   "outputs": [
    {
     "data": {
      "text/plain": [
       "380"
      ]
     },
     "metadata": {},
     "output_type": "display_data"
    },
    {
     "data": {
      "text/plain": [
       "380"
      ]
     },
     "metadata": {},
     "output_type": "display_data"
    },
    {
     "data": {
      "text/plain": [
       "380"
      ]
     },
     "metadata": {},
     "output_type": "display_data"
    },
    {
     "data": {
      "text/plain": [
       "380"
      ]
     },
     "metadata": {},
     "output_type": "display_data"
    },
    {
     "data": {
      "text/plain": [
       "380"
      ]
     },
     "metadata": {},
     "output_type": "display_data"
    },
    {
     "data": {
      "text/plain": [
       "380"
      ]
     },
     "metadata": {},
     "output_type": "display_data"
    },
    {
     "data": {
      "text/plain": [
       "380"
      ]
     },
     "metadata": {},
     "output_type": "display_data"
    },
    {
     "data": {
      "text/plain": [
       "380"
      ]
     },
     "metadata": {},
     "output_type": "display_data"
    },
    {
     "data": {
      "text/plain": [
       "380"
      ]
     },
     "metadata": {},
     "output_type": "display_data"
    },
    {
     "data": {
      "text/plain": [
       "381"
      ]
     },
     "metadata": {},
     "output_type": "display_data"
    },
    {
     "data": {
      "text/plain": [
       "380"
      ]
     },
     "metadata": {},
     "output_type": "display_data"
    },
    {
     "data": {
      "text/plain": [
       "380"
      ]
     },
     "metadata": {},
     "output_type": "display_data"
    },
    {
     "data": {
      "text/plain": [
       "380"
      ]
     },
     "metadata": {},
     "output_type": "display_data"
    },
    {
     "data": {
      "text/plain": [
       "380"
      ]
     },
     "metadata": {},
     "output_type": "display_data"
    },
    {
     "data": {
      "text/plain": [
       "380"
      ]
     },
     "metadata": {},
     "output_type": "display_data"
    },
    {
     "data": {
      "text/plain": [
       "380"
      ]
     },
     "metadata": {},
     "output_type": "display_data"
    },
    {
     "data": {
      "text/plain": [
       "380"
      ]
     },
     "metadata": {},
     "output_type": "display_data"
    },
    {
     "data": {
      "text/plain": [
       "380"
      ]
     },
     "metadata": {},
     "output_type": "display_data"
    },
    {
     "data": {
      "text/plain": [
       "380"
      ]
     },
     "metadata": {},
     "output_type": "display_data"
    },
    {
     "data": {
      "text/plain": [
       "380"
      ]
     },
     "metadata": {},
     "output_type": "display_data"
    },
    {
     "data": {
      "text/plain": [
       "380"
      ]
     },
     "metadata": {},
     "output_type": "display_data"
    },
    {
     "data": {
      "text/plain": [
       "380"
      ]
     },
     "metadata": {},
     "output_type": "display_data"
    },
    {
     "data": {
      "text/plain": [
       "380"
      ]
     },
     "metadata": {},
     "output_type": "display_data"
    },
    {
     "data": {
      "text/plain": [
       "380"
      ]
     },
     "metadata": {},
     "output_type": "display_data"
    },
    {
     "data": {
      "text/plain": [
       "380"
      ]
     },
     "metadata": {},
     "output_type": "display_data"
    },
    {
     "data": {
      "text/plain": [
       "380"
      ]
     },
     "metadata": {},
     "output_type": "display_data"
    },
    {
     "data": {
      "text/plain": [
       "380"
      ]
     },
     "metadata": {},
     "output_type": "display_data"
    },
    {
     "data": {
      "text/plain": [
       "380"
      ]
     },
     "metadata": {},
     "output_type": "display_data"
    },
    {
     "data": {
      "text/plain": [
       "380"
      ]
     },
     "metadata": {},
     "output_type": "display_data"
    },
    {
     "data": {
      "text/plain": [
       "380"
      ]
     },
     "metadata": {},
     "output_type": "display_data"
    },
    {
     "data": {
      "text/plain": [
       "380"
      ]
     },
     "metadata": {},
     "output_type": "display_data"
    },
    {
     "data": {
      "text/plain": [
       "380"
      ]
     },
     "metadata": {},
     "output_type": "display_data"
    },
    {
     "data": {
      "text/plain": [
       "380"
      ]
     },
     "metadata": {},
     "output_type": "display_data"
    },
    {
     "data": {
      "text/plain": [
       "383"
      ]
     },
     "metadata": {},
     "output_type": "display_data"
    },
    {
     "data": {
      "text/plain": [
       "380"
      ]
     },
     "metadata": {},
     "output_type": "display_data"
    },
    {
     "data": {
      "text/plain": [
       "381"
      ]
     },
     "metadata": {},
     "output_type": "display_data"
    },
    {
     "data": {
      "text/plain": [
       "381"
      ]
     },
     "metadata": {},
     "output_type": "display_data"
    },
    {
     "data": {
      "text/plain": [
       "380"
      ]
     },
     "metadata": {},
     "output_type": "display_data"
    },
    {
     "data": {
      "text/plain": [
       "380"
      ]
     },
     "metadata": {},
     "output_type": "display_data"
    },
    {
     "data": {
      "text/plain": [
       "306"
      ]
     },
     "metadata": {},
     "output_type": "display_data"
    },
    {
     "data": {
      "text/plain": [
       "306"
      ]
     },
     "metadata": {},
     "output_type": "display_data"
    },
    {
     "data": {
      "text/plain": [
       "306"
      ]
     },
     "metadata": {},
     "output_type": "display_data"
    },
    {
     "data": {
      "text/plain": [
       "306"
      ]
     },
     "metadata": {},
     "output_type": "display_data"
    },
    {
     "data": {
      "text/plain": [
       "306"
      ]
     },
     "metadata": {},
     "output_type": "display_data"
    },
    {
     "data": {
      "text/plain": [
       "306"
      ]
     },
     "metadata": {},
     "output_type": "display_data"
    },
    {
     "data": {
      "text/plain": [
       "306"
      ]
     },
     "metadata": {},
     "output_type": "display_data"
    },
    {
     "data": {
      "text/plain": [
       "306"
      ]
     },
     "metadata": {},
     "output_type": "display_data"
    },
    {
     "data": {
      "text/plain": [
       "306"
      ]
     },
     "metadata": {},
     "output_type": "display_data"
    },
    {
     "data": {
      "text/plain": [
       "306"
      ]
     },
     "metadata": {},
     "output_type": "display_data"
    },
    {
     "data": {
      "text/plain": [
       "306"
      ]
     },
     "metadata": {},
     "output_type": "display_data"
    },
    {
     "data": {
      "text/plain": [
       "306"
      ]
     },
     "metadata": {},
     "output_type": "display_data"
    },
    {
     "data": {
      "text/plain": [
       "306"
      ]
     },
     "metadata": {},
     "output_type": "display_data"
    },
    {
     "data": {
      "text/plain": [
       "380"
      ]
     },
     "metadata": {},
     "output_type": "display_data"
    },
    {
     "data": {
      "text/plain": [
       "380"
      ]
     },
     "metadata": {},
     "output_type": "display_data"
    },
    {
     "data": {
      "text/plain": [
       "380"
      ]
     },
     "metadata": {},
     "output_type": "display_data"
    },
    {
     "data": {
      "text/plain": [
       "380"
      ]
     },
     "metadata": {},
     "output_type": "display_data"
    },
    {
     "data": {
      "text/plain": [
       "380"
      ]
     },
     "metadata": {},
     "output_type": "display_data"
    },
    {
     "data": {
      "text/plain": [
       "380"
      ]
     },
     "metadata": {},
     "output_type": "display_data"
    },
    {
     "data": {
      "text/plain": [
       "380"
      ]
     },
     "metadata": {},
     "output_type": "display_data"
    },
    {
     "data": {
      "text/plain": [
       "380"
      ]
     },
     "metadata": {},
     "output_type": "display_data"
    },
    {
     "data": {
      "text/plain": [
       "381"
      ]
     },
     "metadata": {},
     "output_type": "display_data"
    },
    {
     "data": {
      "text/plain": [
       "380"
      ]
     },
     "metadata": {},
     "output_type": "display_data"
    },
    {
     "data": {
      "text/plain": [
       "381"
      ]
     },
     "metadata": {},
     "output_type": "display_data"
    },
    {
     "data": {
      "text/plain": [
       "380"
      ]
     },
     "metadata": {},
     "output_type": "display_data"
    },
    {
     "data": {
      "text/plain": [
       "380"
      ]
     },
     "metadata": {},
     "output_type": "display_data"
    },
    {
     "data": {
      "text/plain": [
       "306"
      ]
     },
     "metadata": {},
     "output_type": "display_data"
    },
    {
     "data": {
      "text/plain": [
       "306"
      ]
     },
     "metadata": {},
     "output_type": "display_data"
    },
    {
     "data": {
      "text/plain": [
       "306"
      ]
     },
     "metadata": {},
     "output_type": "display_data"
    },
    {
     "data": {
      "text/plain": [
       "306"
      ]
     },
     "metadata": {},
     "output_type": "display_data"
    },
    {
     "data": {
      "text/plain": [
       "306"
      ]
     },
     "metadata": {},
     "output_type": "display_data"
    },
    {
     "data": {
      "text/plain": [
       "306"
      ]
     },
     "metadata": {},
     "output_type": "display_data"
    },
    {
     "data": {
      "text/plain": [
       "306"
      ]
     },
     "metadata": {},
     "output_type": "display_data"
    },
    {
     "data": {
      "text/plain": [
       "309"
      ]
     },
     "metadata": {},
     "output_type": "display_data"
    },
    {
     "data": {
      "text/plain": [
       "306"
      ]
     },
     "metadata": {},
     "output_type": "display_data"
    },
    {
     "data": {
      "text/plain": [
       "306"
      ]
     },
     "metadata": {},
     "output_type": "display_data"
    },
    {
     "data": {
      "text/plain": [
       "306"
      ]
     },
     "metadata": {},
     "output_type": "display_data"
    },
    {
     "data": {
      "text/plain": [
       "306"
      ]
     },
     "metadata": {},
     "output_type": "display_data"
    },
    {
     "data": {
      "text/plain": [
       "306"
      ]
     },
     "metadata": {},
     "output_type": "display_data"
    }
   ],
   "source": [
    "check_extra_rows()"
   ]
  },
  {
   "cell_type": "markdown",
   "metadata": {},
   "source": [
    "It appears we have extra rows in our datasets, as we know what the true size should be for each DataFrame (360 for 20 team leagues and 306 for 18 team leagues).\n",
    "\n"
   ]
  },
  {
   "cell_type": "markdown",
   "metadata": {},
   "source": [
    "Clean excess lines in the data"
   ]
  },
  {
   "cell_type": "code",
   "execution_count": 49,
   "metadata": {},
   "outputs": [],
   "source": [
    "EnglishLeagues[9] = EnglishLeagues[9].drop([380])\n",
    "ItalianLeagues[7] = ItalianLeagues[7].drop([380,381,382])\n",
    "ItalianLeagues[9] = ItalianLeagues[9].drop([380])\n",
    "ItalianLeagues[10] = ItalianLeagues[10].drop([380])\n",
    "FrenchLeagues[8] = FrenchLeagues[8].drop([380])\n",
    "FrenchLeagues[10] = FrenchLeagues[10].drop([380])\n",
    "DutchLeagues[7] = DutchLeagues[7].drop([306,307,308])\n"
   ]
  },
  {
   "cell_type": "code",
   "execution_count": 50,
   "metadata": {},
   "outputs": [
    {
     "name": "stdout",
     "output_type": "stream",
     "text": [
      "Null values in E0 1516, Index 0 10 \n",
      "Null values in I1 0405, Index 2 0 \n",
      "Null values in I1 0506, Index 2 1 \n",
      "Null values in I1 0809, Index 2 4 \n",
      "Null values in I1 0910, Index 2 5 \n",
      "Null values in I1 1213, Index 2 7 \n",
      "Null values in F1 0405, Index 4 0 \n",
      "Null values in F1 1516, Index 4 10 \n",
      "Null values in N1 0405, Index 5 0 \n"
     ]
    }
   ],
   "source": [
    "check_null()"
   ]
  },
  {
   "cell_type": "code",
   "execution_count": 51,
   "metadata": {},
   "outputs": [],
   "source": [
    "#All  null values are from missing b365 DATA"
   ]
  },
  {
   "cell_type": "code",
   "execution_count": null,
   "metadata": {},
   "outputs": [],
   "source": []
  },
  {
   "cell_type": "markdown",
   "metadata": {},
   "source": [
    "**#3** FeatureCreation"
   ]
  },
  {
   "cell_type": "code",
   "execution_count": 52,
   "metadata": {},
   "outputs": [],
   "source": [
    "def get_matchdays(data):\n",
    "    return int(len(data) * 2 / len(data.groupby('HomeTeam').mean().T.columns))\n",
    "\n",
    "def filter_first_n(data, n):\n",
    "    data = data[(data.HomeTeamMatchDay > n) & (data.AwayTeamMatchDay > n)]\n",
    "    \n",
    "    return data\n",
    "\n",
    "def aggregate(data, matchdays):\n",
    "    \n",
    "    df = pd.DataFrame.from_dict(data,orient = 'index',columns = [i for i in range(1,matchdays + 1)])\n",
    "    df.transpose()\n",
    "    df_last5 = pd.DataFrame()\n",
    "    \n",
    "    df_last5[1] = (df[1])\n",
    "    df_last5[2] = (df[1]) * 5\n",
    "    df_last5[3] = (df[2] + df[1]) * 5/2\n",
    "    df_last5[4] = (df[3] + df[2] + df[1]) * 5/3\n",
    "    df_last5[5] = (df[4] + df[3] + df[2] + df[1]) * 5/4\n",
    "    \n",
    "    for i in range(6,matchdays+1):\n",
    "        df_last5[i] = df[i-1] + df[i-2] + df[i-3] + df[i - 4] + df[i - 5]\n",
    "    \n",
    "    return df_last5\n",
    "\n",
    "def resetindex(leagues):\n",
    "    for seasons in leagues:\n",
    "        seasons.index = range(0,len(seasons))\n",
    "        \n",
    "    return leagues\n",
    "    "
   ]
  },
  {
   "cell_type": "code",
   "execution_count": 53,
   "metadata": {},
   "outputs": [],
   "source": [
    "##Basic PreProcessing Cell\n",
    "\n",
    "#Each function corresponds to a seperate feature we wish to create, most of the features are just an aggregate of the last\n",
    "#5 matches. \n",
    "\n",
    "\n",
    "\n",
    "def goals_scored_last_5(data):\n",
    "    \n",
    "    matchdays = get_matchdays(data)  \n",
    "     \n",
    "    teams = {}\n",
    "    \n",
    "    for i in data.groupby('HomeTeam').mean().T.columns:\n",
    "        teams[i] = []\n",
    "        \n",
    "   \n",
    "    for i in range(len(data)):\n",
    "        HTGS = data.iloc[i]['FTHG']\n",
    "        ATGS = data.iloc[i]['FTAG']\n",
    "        teams[data.iloc[i].HomeTeam].append(HTGS)\n",
    "        teams[data.iloc[i].AwayTeam].append(ATGS)\n",
    "        \n",
    "    \n",
    "    GoalsScoredLast5 = aggregate(teams, matchdays)\n",
    "    \n",
    "    return GoalsScoredLast5\n",
    "\n",
    "def unbeatenstreak(data):\n",
    "    \n",
    "    matchdays = get_matchdays(data)   \n",
    "    teams = {}\n",
    "    \n",
    "    for i in data.groupby('HomeTeam').mean().T.columns:\n",
    "        teams[i] = []\n",
    "        \n",
    "   \n",
    "    for i in range(len(data)):\n",
    "        FTR = data.iloc[i]['FTR']\n",
    "        if FTR == 'H':\n",
    "            teams[data.iloc[i].HomeTeam].append(1)\n",
    "            teams[data.iloc[i].AwayTeam].append(0)\n",
    "        if FTR == 'D':\n",
    "            teams[data.iloc[i].HomeTeam].append(1)\n",
    "            teams[data.iloc[i].AwayTeam].append(1)\n",
    "        if FTR == 'A':\n",
    "            teams[data.iloc[i].HomeTeam].append(0)\n",
    "            teams[data.iloc[i].AwayTeam].append(1)\n",
    "        \n",
    "    \n",
    "    NotLose = pd.DataFrame.from_dict(teams,orient = 'index',columns = [i for i in range(1,matchdays + 1)])\n",
    "    NotLose.transpose()\n",
    "    UnBeatenStreak = pd.DataFrame.from_dict(teams,orient = 'index',columns = [i for i in range(1,matchdays + 1)])\n",
    "    UnBeatenStreak.transpose()\n",
    "     \n",
    "    UnBeatenStreak[1] = 0\n",
    "    for i in range(2,(matchdays + 1)):\n",
    "        for column in teams:\n",
    "            if NotLose[i - 1][column] == 1:\n",
    "                UnBeatenStreak[i][column] = UnBeatenStreak[i - 1][column] + 1\n",
    "            else:\n",
    "                UnBeatenStreak[i][column] = 0\n",
    "    return UnBeatenStreak\n",
    "\n",
    "\n",
    "\n",
    "\n",
    "def goals_conceded_last_5(data):\n",
    "    \n",
    "    matchdays = get_matchdays(data)\n",
    "    teams = {}\n",
    "                           \n",
    "    for i in data.groupby('HomeTeam').mean().T.columns:\n",
    "        teams[i] = []\n",
    "        \n",
    "   \n",
    "    for i in range(len(data)):\n",
    "        HTGS = data.iloc[i]['FTHG']\n",
    "        ATGS = data.iloc[i]['FTAG']\n",
    "        teams[data.iloc[i].HomeTeam].append(ATGS)\n",
    "        teams[data.iloc[i].AwayTeam].append(HTGS)\n",
    "        \n",
    "    \n",
    "    GoalsConcededLast5 = aggregate(teams, matchdays)\n",
    "        \n",
    "    return GoalsConcededLast5\n",
    "    \n",
    "def points_last_5(data):\n",
    "    matchdays = get_matchdays(data)\n",
    "    teams = {}\n",
    "    \n",
    "    for i in data.groupby('HomeTeam').mean().T.columns:\n",
    "        teams[i] = []\n",
    "        \n",
    "    for i in range(len(data)):\n",
    "        FTR = data.iloc[i]['FTR']\n",
    "        if FTR == 'H':\n",
    "            teams[data.iloc[i].HomeTeam].append(3)\n",
    "            teams[data.iloc[i].AwayTeam].append(0)\n",
    "        if FTR == 'D':\n",
    "            teams[data.iloc[i].HomeTeam].append(1)\n",
    "            teams[data.iloc[i].AwayTeam].append(1)\n",
    "        if FTR == 'A':\n",
    "            teams[data.iloc[i].HomeTeam].append(0)\n",
    "            teams[data.iloc[i].AwayTeam].append(3)\n",
    "            \n",
    "    PointsLast5 = aggregate(teams, matchdays)\n",
    "        \n",
    "    return PointsLast5\n",
    "\n",
    "def lost_last_match(data):\n",
    "    matchdays = get_matchdays(data)\n",
    "    teams = {}\n",
    "    \n",
    "    for i in data.groupby('HomeTeam').mean().T.columns:\n",
    "        teams[i] = []\n",
    "        \n",
    "    for i in range(len(data)):\n",
    "        FTR = data.iloc[i]['FTR']\n",
    "        if FTR == 'H':\n",
    "            teams[data.iloc[i].HomeTeam].append(1)\n",
    "            teams[data.iloc[i].AwayTeam].append(0)\n",
    "        if FTR == 'D':\n",
    "            teams[data.iloc[i].HomeTeam].append(1)\n",
    "            teams[data.iloc[i].AwayTeam].append(1)\n",
    "        if FTR == 'A':\n",
    "            teams[data.iloc[i].HomeTeam].append(0)\n",
    "            teams[data.iloc[i].AwayTeam].append(1)\n",
    "     \n",
    "    df = pd.DataFrame.from_dict(teams,orient = 'index',columns = [i for i in range(1,matchdays + 1)])\n",
    "    df.transpose()\n",
    "    \n",
    "    LostLast = pd.DataFrame()\n",
    "    \n",
    "    LostLast[1] = 0\n",
    "    \n",
    "    for i in range(2,matchdays + 1):\n",
    "        LostLast[i] = df[i - 1]\n",
    "        \n",
    "    return LostLast\n",
    "    \n",
    "\n",
    "def homeandaway_points(data):\n",
    "    matchdays = int(get_matchdays(data)/2)\n",
    "    hometeams = {}\n",
    "    awayteams = {}\n",
    "    \n",
    "    for i in data.groupby('HomeTeam').mean().T.columns:\n",
    "        hometeams[i] = []\n",
    "        awayteams[i] = []\n",
    "        \n",
    "    for i in range(len(data)):\n",
    "        FTR = data.iloc[i]['FTR']\n",
    "        if FTR == 'H':\n",
    "            hometeams[data.iloc[i].HomeTeam].append(3)\n",
    "            awayteams[data.iloc[i].AwayTeam].append(0)\n",
    "        if FTR == 'D':\n",
    "            hometeams[data.iloc[i].HomeTeam].append(1)\n",
    "            awayteams[data.iloc[i].AwayTeam].append(1)\n",
    "        if FTR == 'A':\n",
    "            hometeams[data.iloc[i].HomeTeam].append(0)\n",
    "            awayteams[data.iloc[i].AwayTeam].append(3)\n",
    "            \n",
    "    HomeTeamPoints5 = aggregate(hometeams, matchdays)\n",
    "    AwayTeamPoints5 = aggregate(awayteams, matchdays)\n",
    "        \n",
    "    return HomeTeamPoints5, AwayTeamPoints5\n",
    "\n",
    "def homeandaway_goals_scored_last_5(data):\n",
    "    \n",
    "    matchdays = int(get_matchdays(data)/2)\n",
    "    hometeams = {}\n",
    "    awayteams = {}\n",
    "    \n",
    "    for i in data.groupby('HomeTeam').mean().T.columns:\n",
    "        hometeams[i] = []\n",
    "        awayteams[i] = []\n",
    "        \n",
    "   \n",
    "    for i in range(len(data)):\n",
    "        HTGS = data.iloc[i]['FTHG']\n",
    "        ATGS = data.iloc[i]['FTAG']\n",
    "        hometeams[data.iloc[i].HomeTeam].append(HTGS)\n",
    "        awayteams[data.iloc[i].AwayTeam].append(ATGS)\n",
    "        \n",
    "    \n",
    "    HomeTeamGoalsScored5 = aggregate(hometeams, matchdays)\n",
    "    AwayTeamGoalsScored5 = aggregate(awayteams, matchdays)\n",
    "            \n",
    "        \n",
    "    return HomeTeamGoalsScored5, AwayTeamGoalsScored5\n",
    "  \n"
   ]
  },
  {
   "cell_type": "code",
   "execution_count": 62,
   "metadata": {},
   "outputs": [],
   "source": [
    "\n",
    "def applying_total_stats(data):\n",
    "    homematch =[]\n",
    "    awaymatch =[]\n",
    "    j = data.index.values[0]\n",
    "    #Find the current matchday for the home team and away team, to aid with filtering down the line\n",
    "    for i in range(len(data)):\n",
    "        homematch.append(len(data[(data.index.values <= i) & ((data['HomeTeam'] == data.iloc[i].HomeTeam) | (data['AwayTeam'] == data.iloc[i].HomeTeam))]))\n",
    "\n",
    "    for i in range(len(data)):\n",
    "        awaymatch.append(len(data[(data.index.values <= i) & ((data['HomeTeam'] == data.iloc[i].AwayTeam) | (data['AwayTeam'] == data.iloc[i].AwayTeam))]))\n",
    "\n",
    "    data['HomeTeamMatchDay'] = homematch\n",
    "    data['AwayTeamMatchDay'] = awaymatch\n",
    "    \n",
    "    V = lost_last_match(data)\n",
    "    W = points_last_5(data)\n",
    "    Y = goals_scored_last_5(data)\n",
    "    X = goals_conceded_last_5(data)\n",
    "    Z = unbeatenstreak(data)\n",
    "    Hpoints = []\n",
    "    Apoints = []\n",
    "    Hgoals_scored_last_5 = []\n",
    "    Agoals_scored_last_5 = []\n",
    "    Hgoals_conceded_last_5 = []\n",
    "    Agoals_conceded_last5 = []\n",
    "    Hunbeaten_streak = []\n",
    "    Aunbeaten_streak = []\n",
    "    Hover_under = []\n",
    "    Aover_under = []\n",
    "    Hlost_last = []\n",
    "    Alost_last = []\n",
    "    \n",
    "    for i in range(len(data)):\n",
    "        A = data['HomeTeam'][i + j]\n",
    "        B = data['HomeTeamMatchDay'][i + j]\n",
    "        Hpoints.append(W.loc[A,B])\n",
    "        Hgoals_scored_last_5.append(Y.loc[A,B])\n",
    "        Hgoals_conceded_last_5.append(X.loc[A,B])\n",
    "        Hunbeaten_streak.append(Z.loc[A,B])\n",
    "        Hlost_last.append(V.loc[A,B])\n",
    "        \n",
    "        \n",
    "        A = data['AwayTeam'][i + j]\n",
    "        B = data['AwayTeamMatchDay'][i + j]#\n",
    "        Apoints.append(W.loc[A,B])\n",
    "        Agoals_scored_last_5.append(Y.loc[A,B])\n",
    "        Agoals_conceded_last5.append(X.loc[A,B])\n",
    "        Aunbeaten_streak.append(Z.loc[A,B])\n",
    "        Alost_last.append(V.loc[A,B])\n",
    "  \n",
    "    \n",
    "    #Convert all the generated arrays into columns for the main dataframe\n",
    "    data['HomeTeam-Points'] = Hpoints\n",
    "    data['AwayTeam-Points'] = Apoints\n",
    "    data['HomeTeam-GoalsScoredLast5'] = Hgoals_scored_last_5\n",
    "    data['AwayTeam-GoalsScoredLast5'] = Agoals_scored_last_5\n",
    "    data['HomeTeam-GoalsConcededLast5'] = Hgoals_conceded_last_5\n",
    "    data['AwayTeam-GoalsConcededLast5'] = Agoals_conceded_last5\n",
    "    data['HomeTeam-UnbeatenStreak'] = Hunbeaten_streak\n",
    "    data['AwayTeam-UnbeatenStreak'] = Aunbeaten_streak\n",
    "    data['HomeTeam-LostLast'] = Hlost_last\n",
    "    data['AwayTeam-LostLast'] = Alost_last\n",
    "    \n",
    "    \n",
    "    #Using the matchday column to filter out the first x amount of games, these early matchdays can be problematic due to weak -\n",
    "    #Definitions of the form metrics\n",
    "    filter_first_n(data, 8)\n",
    "    \n",
    "    return data\n",
    "\n",
    "def applying_homeandaway_stats(data):\n",
    "    homematch =[]\n",
    "    awaymatch =[]\n",
    "    j = data.index.values[0]\n",
    "    for i in range(len(data)):\n",
    "        homematch.append(len(data[(data.index.values <= i) & ((data['HomeTeam'] == data.iloc[i].HomeTeam))]))\n",
    "\n",
    "    for i in range(len(data)):\n",
    "        awaymatch.append(len(data[(data.index.values <= i) & ((data['AwayTeam'] == data.iloc[i].AwayTeam))]))\n",
    "\n",
    "    data['HomeTeamGameNumber'] = homematch\n",
    "    data['AwayTeamGameNumber'] = awaymatch\n",
    "    \n",
    "    \n",
    "    X,W = Get_HomeTeamPoints(data)\n",
    "    Y,Z = Get_HomeTeamGoalsScoredLast5(data)\n",
    "\n",
    "  \n",
    "    homePoints = []\n",
    "    AwayTeamPoints = []\n",
    "    homeGoalsScoredLast5 = []\n",
    "    AwayTeamGoalsScoredLast5 = []\n",
    "    \n",
    "    \n",
    "    for i in range(len(data)):\n",
    "        A = data['HomeTeam'][i + j]\n",
    "        B = data['HomeTeamGameNumber'][i + j] \n",
    "        homeGoalsScoredLast5.append(Y.loc[A,B])\n",
    "        homePoints.append(X.loc[A,B])\n",
    "        \n",
    "        A = data['AwayTeam'][i + j]\n",
    "        B = data['AwayTeamGameNumber'][i + j]\n",
    "        AwayTeamGoalsScoredLast5.append(Z.loc[A,B])\n",
    "        AwayTeamPoints.append(X.loc[A,B])\n",
    "    \n",
    "    \n",
    "    data['ScoredAtHomeTeam5'] = homeGoalsScoredLast5\n",
    "    data['ScoredAwayTeam5'] = AwayTeamGoalsScoredLast5\n",
    "    data['HomeTeamAtHomeTeamPoints'] = homePoints\n",
    "    data['AwayTeamFromHomeTeamPoints'] = AwayTeamPoints\n",
    "\n",
    "    return data\n"
   ]
  },
  {
   "cell_type": "code",
   "execution_count": 63,
   "metadata": {},
   "outputs": [],
   "source": [
    "def ApplyStatsToArray(array):\n",
    "    for i in range(0,len(array)):\n",
    "        array[i] = applying_total_stats(array[i])\n",
    "        array[i] = applying_homeandaway_stats(array[i])\n",
    "\n",
    "    array.pop(0)\n",
    "    return array\n"
   ]
  },
  {
   "cell_type": "code",
   "execution_count": 64,
   "metadata": {},
   "outputs": [],
   "source": [
    "EnglishLeagues = ApplyStatsToArray(EnglishLeagues)\n"
   ]
  },
  {
   "cell_type": "code",
   "execution_count": null,
   "metadata": {},
   "outputs": [],
   "source": [
    "for league in AllLleagues:\n",
    "    league = ApplyingStatsToArray(league)\n"
   ]
  },
  {
   "cell_type": "code",
   "execution_count": null,
   "metadata": {
    "scrolled": true
   },
   "outputs": [],
   "source": []
  },
  {
   "cell_type": "code",
   "execution_count": null,
   "metadata": {},
   "outputs": [],
   "source": [
    "\n",
    "\n"
   ]
  },
  {
   "cell_type": "code",
   "execution_count": null,
   "metadata": {},
   "outputs": [],
   "source": [
    "EnglandFinal = pd.concat(EnglishLeagues)\n",
    "SpainFinal = pd.concat(SpanishLeagues)\n",
    "GermanyFinal = pd.concat(ItalianLeagues)\n",
    "ItalyFinal = pd.concat(GermanLeagues)\n",
    "FranceFinal = pd.concat(FrenchLeagues)\n",
    "NetherlandsFinal = pd.concat(DutchLeagues)"
   ]
  },
  {
   "cell_type": "code",
   "execution_count": null,
   "metadata": {},
   "outputs": [],
   "source": [
    "Final = pd.concat([EnglandFinal,SpainFinal,GermanyFinal,ItalyFinal,FranceFinal,NetherlandsFinal])"
   ]
  },
  {
   "cell_type": "code",
   "execution_count": null,
   "metadata": {},
   "outputs": [],
   "source": [
    "Final.to_csv()"
   ]
  },
  {
   "cell_type": "code",
   "execution_count": 122,
   "metadata": {},
   "outputs": [
    {
     "data": {
      "text/html": [
       "<div>\n",
       "<style scoped>\n",
       "    .dataframe tbody tr th:only-of-type {\n",
       "        vertical-align: middle;\n",
       "    }\n",
       "\n",
       "    .dataframe tbody tr th {\n",
       "        vertical-align: top;\n",
       "    }\n",
       "\n",
       "    .dataframe thead th {\n",
       "        text-align: right;\n",
       "    }\n",
       "</style>\n",
       "<table border=\"1\" class=\"dataframe\">\n",
       "  <thead>\n",
       "    <tr style=\"text-align: right;\">\n",
       "      <th></th>\n",
       "      <th>Div</th>\n",
       "      <th>HomeTeam</th>\n",
       "      <th>AwayTeam</th>\n",
       "      <th>FTHG</th>\n",
       "      <th>FTAG</th>\n",
       "      <th>FTR</th>\n",
       "      <th>B365H</th>\n",
       "      <th>B365D</th>\n",
       "      <th>B365A</th>\n",
       "      <th>BWH</th>\n",
       "      <th>...</th>\n",
       "      <th>HomeTeamPoints</th>\n",
       "      <th>AwayTeamPoints</th>\n",
       "      <th>HomeTeamLostLast</th>\n",
       "      <th>AwayTeamLostLast</th>\n",
       "      <th>HomeTeamGameNumber</th>\n",
       "      <th>AwayTeamGameNumber</th>\n",
       "      <th>ScoredAtHomeTeam5</th>\n",
       "      <th>ScoredAwayTeam5</th>\n",
       "      <th>HomeTeamAtHomeTeamPoints</th>\n",
       "      <th>AwayTeamFromHomeTeamPoints</th>\n",
       "    </tr>\n",
       "  </thead>\n",
       "  <tbody>\n",
       "    <tr>\n",
       "      <th>0</th>\n",
       "      <td>E0</td>\n",
       "      <td>Aston Villa</td>\n",
       "      <td>Bolton</td>\n",
       "      <td>2.0</td>\n",
       "      <td>2.0</td>\n",
       "      <td>D</td>\n",
       "      <td>2.30</td>\n",
       "      <td>3.25</td>\n",
       "      <td>3.00</td>\n",
       "      <td>2.10</td>\n",
       "      <td>...</td>\n",
       "      <td>1.0</td>\n",
       "      <td>1.0</td>\n",
       "      <td>NaN</td>\n",
       "      <td>NaN</td>\n",
       "      <td>1</td>\n",
       "      <td>1</td>\n",
       "      <td>2.0</td>\n",
       "      <td>2.0</td>\n",
       "      <td>1.0</td>\n",
       "      <td>0.0</td>\n",
       "    </tr>\n",
       "    <tr>\n",
       "      <th>1</th>\n",
       "      <td>E0</td>\n",
       "      <td>Everton</td>\n",
       "      <td>Man United</td>\n",
       "      <td>0.0</td>\n",
       "      <td>2.0</td>\n",
       "      <td>A</td>\n",
       "      <td>5.00</td>\n",
       "      <td>3.40</td>\n",
       "      <td>1.72</td>\n",
       "      <td>4.35</td>\n",
       "      <td>...</td>\n",
       "      <td>0.0</td>\n",
       "      <td>3.0</td>\n",
       "      <td>NaN</td>\n",
       "      <td>NaN</td>\n",
       "      <td>1</td>\n",
       "      <td>1</td>\n",
       "      <td>0.0</td>\n",
       "      <td>2.0</td>\n",
       "      <td>0.0</td>\n",
       "      <td>3.0</td>\n",
       "    </tr>\n",
       "    <tr>\n",
       "      <th>2</th>\n",
       "      <td>E0</td>\n",
       "      <td>Fulham</td>\n",
       "      <td>Birmingham</td>\n",
       "      <td>0.0</td>\n",
       "      <td>0.0</td>\n",
       "      <td>D</td>\n",
       "      <td>2.37</td>\n",
       "      <td>3.25</td>\n",
       "      <td>2.87</td>\n",
       "      <td>2.30</td>\n",
       "      <td>...</td>\n",
       "      <td>1.0</td>\n",
       "      <td>1.0</td>\n",
       "      <td>NaN</td>\n",
       "      <td>NaN</td>\n",
       "      <td>1</td>\n",
       "      <td>1</td>\n",
       "      <td>0.0</td>\n",
       "      <td>0.0</td>\n",
       "      <td>1.0</td>\n",
       "      <td>0.0</td>\n",
       "    </tr>\n",
       "    <tr>\n",
       "      <th>3</th>\n",
       "      <td>E0</td>\n",
       "      <td>Man City</td>\n",
       "      <td>West Brom</td>\n",
       "      <td>0.0</td>\n",
       "      <td>0.0</td>\n",
       "      <td>D</td>\n",
       "      <td>1.72</td>\n",
       "      <td>3.40</td>\n",
       "      <td>5.00</td>\n",
       "      <td>1.65</td>\n",
       "      <td>...</td>\n",
       "      <td>1.0</td>\n",
       "      <td>1.0</td>\n",
       "      <td>NaN</td>\n",
       "      <td>NaN</td>\n",
       "      <td>1</td>\n",
       "      <td>1</td>\n",
       "      <td>0.0</td>\n",
       "      <td>0.0</td>\n",
       "      <td>1.0</td>\n",
       "      <td>3.0</td>\n",
       "    </tr>\n",
       "    <tr>\n",
       "      <th>4</th>\n",
       "      <td>E0</td>\n",
       "      <td>Middlesbrough</td>\n",
       "      <td>Liverpool</td>\n",
       "      <td>0.0</td>\n",
       "      <td>0.0</td>\n",
       "      <td>D</td>\n",
       "      <td>2.87</td>\n",
       "      <td>3.20</td>\n",
       "      <td>2.40</td>\n",
       "      <td>2.90</td>\n",
       "      <td>...</td>\n",
       "      <td>1.0</td>\n",
       "      <td>1.0</td>\n",
       "      <td>NaN</td>\n",
       "      <td>NaN</td>\n",
       "      <td>1</td>\n",
       "      <td>1</td>\n",
       "      <td>0.0</td>\n",
       "      <td>0.0</td>\n",
       "      <td>1.0</td>\n",
       "      <td>3.0</td>\n",
       "    </tr>\n",
       "    <tr>\n",
       "      <th>...</th>\n",
       "      <td>...</td>\n",
       "      <td>...</td>\n",
       "      <td>...</td>\n",
       "      <td>...</td>\n",
       "      <td>...</td>\n",
       "      <td>...</td>\n",
       "      <td>...</td>\n",
       "      <td>...</td>\n",
       "      <td>...</td>\n",
       "      <td>...</td>\n",
       "      <td>...</td>\n",
       "      <td>...</td>\n",
       "      <td>...</td>\n",
       "      <td>...</td>\n",
       "      <td>...</td>\n",
       "      <td>...</td>\n",
       "      <td>...</td>\n",
       "      <td>...</td>\n",
       "      <td>...</td>\n",
       "      <td>...</td>\n",
       "      <td>...</td>\n",
       "    </tr>\n",
       "    <tr>\n",
       "      <th>301</th>\n",
       "      <td>N1</td>\n",
       "      <td>Roda</td>\n",
       "      <td>Den Haag</td>\n",
       "      <td>2.0</td>\n",
       "      <td>3.0</td>\n",
       "      <td>A</td>\n",
       "      <td>2.89</td>\n",
       "      <td>3.60</td>\n",
       "      <td>2.25</td>\n",
       "      <td>2.95</td>\n",
       "      <td>...</td>\n",
       "      <td>10.0</td>\n",
       "      <td>5.0</td>\n",
       "      <td>1.0</td>\n",
       "      <td>1.0</td>\n",
       "      <td>17</td>\n",
       "      <td>17</td>\n",
       "      <td>6.0</td>\n",
       "      <td>6.0</td>\n",
       "      <td>4.0</td>\n",
       "      <td>9.0</td>\n",
       "    </tr>\n",
       "    <tr>\n",
       "      <th>302</th>\n",
       "      <td>N1</td>\n",
       "      <td>Sparta Rotterdam</td>\n",
       "      <td>Heracles</td>\n",
       "      <td>2.0</td>\n",
       "      <td>5.0</td>\n",
       "      <td>A</td>\n",
       "      <td>2.14</td>\n",
       "      <td>3.79</td>\n",
       "      <td>3.00</td>\n",
       "      <td>2.10</td>\n",
       "      <td>...</td>\n",
       "      <td>6.0</td>\n",
       "      <td>2.0</td>\n",
       "      <td>0.0</td>\n",
       "      <td>1.0</td>\n",
       "      <td>17</td>\n",
       "      <td>17</td>\n",
       "      <td>10.0</td>\n",
       "      <td>5.0</td>\n",
       "      <td>9.0</td>\n",
       "      <td>9.0</td>\n",
       "    </tr>\n",
       "    <tr>\n",
       "      <th>303</th>\n",
       "      <td>N1</td>\n",
       "      <td>Twente</td>\n",
       "      <td>NAC Breda</td>\n",
       "      <td>1.0</td>\n",
       "      <td>1.0</td>\n",
       "      <td>D</td>\n",
       "      <td>2.14</td>\n",
       "      <td>3.75</td>\n",
       "      <td>3.10</td>\n",
       "      <td>2.15</td>\n",
       "      <td>...</td>\n",
       "      <td>4.0</td>\n",
       "      <td>6.0</td>\n",
       "      <td>0.0</td>\n",
       "      <td>1.0</td>\n",
       "      <td>17</td>\n",
       "      <td>17</td>\n",
       "      <td>7.0</td>\n",
       "      <td>5.0</td>\n",
       "      <td>6.0</td>\n",
       "      <td>6.0</td>\n",
       "    </tr>\n",
       "    <tr>\n",
       "      <th>304</th>\n",
       "      <td>N1</td>\n",
       "      <td>Utrecht</td>\n",
       "      <td>VVV Venlo</td>\n",
       "      <td>1.0</td>\n",
       "      <td>0.0</td>\n",
       "      <td>H</td>\n",
       "      <td>1.44</td>\n",
       "      <td>4.50</td>\n",
       "      <td>6.50</td>\n",
       "      <td>1.48</td>\n",
       "      <td>...</td>\n",
       "      <td>3.0</td>\n",
       "      <td>1.0</td>\n",
       "      <td>1.0</td>\n",
       "      <td>0.0</td>\n",
       "      <td>17</td>\n",
       "      <td>17</td>\n",
       "      <td>14.0</td>\n",
       "      <td>4.0</td>\n",
       "      <td>11.0</td>\n",
       "      <td>3.0</td>\n",
       "    </tr>\n",
       "    <tr>\n",
       "      <th>305</th>\n",
       "      <td>N1</td>\n",
       "      <td>Willem II</td>\n",
       "      <td>Vitesse</td>\n",
       "      <td>2.0</td>\n",
       "      <td>2.0</td>\n",
       "      <td>D</td>\n",
       "      <td>2.89</td>\n",
       "      <td>3.79</td>\n",
       "      <td>2.20</td>\n",
       "      <td>3.10</td>\n",
       "      <td>...</td>\n",
       "      <td>9.0</td>\n",
       "      <td>6.0</td>\n",
       "      <td>1.0</td>\n",
       "      <td>1.0</td>\n",
       "      <td>17</td>\n",
       "      <td>17</td>\n",
       "      <td>13.0</td>\n",
       "      <td>6.0</td>\n",
       "      <td>12.0</td>\n",
       "      <td>7.0</td>\n",
       "    </tr>\n",
       "  </tbody>\n",
       "</table>\n",
       "<p>25584 rows × 30 columns</p>\n",
       "</div>"
      ],
      "text/plain": [
       "    Div          HomeTeam    AwayTeam  FTHG  FTAG FTR  B365H  B365D  B365A  \\\n",
       "0    E0       Aston Villa      Bolton   2.0   2.0   D   2.30   3.25   3.00   \n",
       "1    E0           Everton  Man United   0.0   2.0   A   5.00   3.40   1.72   \n",
       "2    E0            Fulham  Birmingham   0.0   0.0   D   2.37   3.25   2.87   \n",
       "3    E0          Man City   West Brom   0.0   0.0   D   1.72   3.40   5.00   \n",
       "4    E0     Middlesbrough   Liverpool   0.0   0.0   D   2.87   3.20   2.40   \n",
       "..   ..               ...         ...   ...   ...  ..    ...    ...    ...   \n",
       "301  N1              Roda    Den Haag   2.0   3.0   A   2.89   3.60   2.25   \n",
       "302  N1  Sparta Rotterdam    Heracles   2.0   5.0   A   2.14   3.79   3.00   \n",
       "303  N1            Twente   NAC Breda   1.0   1.0   D   2.14   3.75   3.10   \n",
       "304  N1           Utrecht   VVV Venlo   1.0   0.0   H   1.44   4.50   6.50   \n",
       "305  N1         Willem II     Vitesse   2.0   2.0   D   2.89   3.79   2.20   \n",
       "\n",
       "      BWH  ...  HomeTeamPoints  AwayTeamPoints  HomeTeamLostLast  \\\n",
       "0    2.10  ...             1.0             1.0               NaN   \n",
       "1    4.35  ...             0.0             3.0               NaN   \n",
       "2    2.30  ...             1.0             1.0               NaN   \n",
       "3    1.65  ...             1.0             1.0               NaN   \n",
       "4    2.90  ...             1.0             1.0               NaN   \n",
       "..    ...  ...             ...             ...               ...   \n",
       "301  2.95  ...            10.0             5.0               1.0   \n",
       "302  2.10  ...             6.0             2.0               0.0   \n",
       "303  2.15  ...             4.0             6.0               0.0   \n",
       "304  1.48  ...             3.0             1.0               1.0   \n",
       "305  3.10  ...             9.0             6.0               1.0   \n",
       "\n",
       "     AwayTeamLostLast  HomeTeamGameNumber  AwayTeamGameNumber  \\\n",
       "0                 NaN                   1                   1   \n",
       "1                 NaN                   1                   1   \n",
       "2                 NaN                   1                   1   \n",
       "3                 NaN                   1                   1   \n",
       "4                 NaN                   1                   1   \n",
       "..                ...                 ...                 ...   \n",
       "301               1.0                  17                  17   \n",
       "302               1.0                  17                  17   \n",
       "303               1.0                  17                  17   \n",
       "304               0.0                  17                  17   \n",
       "305               1.0                  17                  17   \n",
       "\n",
       "     ScoredAtHomeTeam5  ScoredAwayTeam5  HomeTeamAtHomeTeamPoints  \\\n",
       "0                  2.0              2.0                       1.0   \n",
       "1                  0.0              2.0                       0.0   \n",
       "2                  0.0              0.0                       1.0   \n",
       "3                  0.0              0.0                       1.0   \n",
       "4                  0.0              0.0                       1.0   \n",
       "..                 ...              ...                       ...   \n",
       "301                6.0              6.0                       4.0   \n",
       "302               10.0              5.0                       9.0   \n",
       "303                7.0              5.0                       6.0   \n",
       "304               14.0              4.0                      11.0   \n",
       "305               13.0              6.0                      12.0   \n",
       "\n",
       "     AwayTeamFromHomeTeamPoints  \n",
       "0                           0.0  \n",
       "1                           3.0  \n",
       "2                           0.0  \n",
       "3                           3.0  \n",
       "4                           3.0  \n",
       "..                          ...  \n",
       "301                         9.0  \n",
       "302                         9.0  \n",
       "303                         6.0  \n",
       "304                         3.0  \n",
       "305                         7.0  \n",
       "\n",
       "[25584 rows x 30 columns]"
      ]
     },
     "metadata": {},
     "output_type": "display_data"
    }
   ],
   "source": [
    "display(Final)\n",
    "\n",
    "ImportantCols = ['FTHG','FTAG','HomeTeamMatchDay','AwayTeamMatchDay','HomeTeamPoints','AwayTeamPoints','Hom']\n",
    "\n",
    "Final = Final.sample(frac=1).reset_index(drop=True)"
   ]
  },
  {
   "cell_type": "code",
   "execution_count": null,
   "metadata": {},
   "outputs": [],
   "source": []
  },
  {
   "cell_type": "code",
   "execution_count": 124,
   "metadata": {},
   "outputs": [],
   "source": [
    "Final5 = filter_first_n(Final)\n",
    "\n",
    "Final5.index = range(0,len(Final5))"
   ]
  },
  {
   "cell_type": "code",
   "execution_count": 125,
   "metadata": {},
   "outputs": [],
   "source": [
    "def SplitOutStats(data):\n",
    "  \n",
    "    H = []\n",
    "    D = []\n",
    "    A = []\n",
    "    \n",
    "    for i in range(len(data)):\n",
    "        if data['FTR'][i] == 'H':\n",
    "            H.append(1)\n",
    "            D.append(0)\n",
    "            A.append(0)\n",
    "        elif data['FTR'][i] == 'D':\n",
    "            H.append(0)\n",
    "            D.append(1)\n",
    "            A.append(0)\n",
    "        else:\n",
    "            H.append(0)\n",
    "            D.append(0)\n",
    "            A.append(1)\n",
    "    data['H'] = H\n",
    "    data['D'] = D\n",
    "    data['A'] = A\n",
    "    \n",
    "    \n",
    "    \n",
    "    \n",
    "    ArrangeCols = ['B365H','B365D','B365A','H','D','A','HomeTeamAtHomeTeamPoints','AwayTeamFromHomeTeamPoints','ScoredAtHomeTeam5',\n",
    "                   'ScoredAwayTeam5','HomeTeamPoints','AwayTeamPoints','HomeTeamUnBeatenStreak','AwayTeamUnBeatenStreak',\n",
    "                   'HomeTeamGoalsScoredLast5','AwayTeamGoalsScoredLast5','HomeTeamGoalsConcededLast5',\n",
    "                   'AwayTeamGoalsConcededLast5','HomeTeamLostLast','AwayTeamLostLast']\n",
    "    data = data[ArrangeCols]    \n",
    "    return data\n",
    "\n",
    "def SplitOutOdds(data):\n",
    "    \n",
    "    Odds = pd.DataFrame()\n",
    "    \n",
    "    Odds['OddsH'] = data['B365H']\n",
    "    Odds['OddsD'] = data['B365D']\n",
    "    Odds['OddsA'] = data['B365A']\n",
    "    \n",
    "    return Odds\n",
    "    "
   ]
  },
  {
   "cell_type": "code",
   "execution_count": 126,
   "metadata": {},
   "outputs": [],
   "source": [
    "Final55 = SplitOutStats(Final5)\n",
    "Odds55 = SplitOutOdds(Final5)\n"
   ]
  },
  {
   "cell_type": "code",
   "execution_count": 127,
   "metadata": {
    "scrolled": true
   },
   "outputs": [
    {
     "data": {
      "text/html": [
       "<div>\n",
       "<style scoped>\n",
       "    .dataframe tbody tr th:only-of-type {\n",
       "        vertical-align: middle;\n",
       "    }\n",
       "\n",
       "    .dataframe tbody tr th {\n",
       "        vertical-align: top;\n",
       "    }\n",
       "\n",
       "    .dataframe thead th {\n",
       "        text-align: right;\n",
       "    }\n",
       "</style>\n",
       "<table border=\"1\" class=\"dataframe\">\n",
       "  <thead>\n",
       "    <tr style=\"text-align: right;\">\n",
       "      <th></th>\n",
       "      <th>B365H</th>\n",
       "      <th>B365D</th>\n",
       "      <th>B365A</th>\n",
       "      <th>H</th>\n",
       "      <th>D</th>\n",
       "      <th>A</th>\n",
       "      <th>HomeTeamAtHomeTeamPoints</th>\n",
       "      <th>AwayTeamFromHomeTeamPoints</th>\n",
       "      <th>ScoredAtHomeTeam5</th>\n",
       "      <th>ScoredAwayTeam5</th>\n",
       "      <th>HomeTeamPoints</th>\n",
       "      <th>AwayTeamPoints</th>\n",
       "      <th>HomeTeamUnBeatenStreak</th>\n",
       "      <th>AwayTeamUnBeatenStreak</th>\n",
       "      <th>HomeTeamGoalsScoredLast5</th>\n",
       "      <th>AwayTeamGoalsScoredLast5</th>\n",
       "      <th>HomeTeamGoalsConcededLast5</th>\n",
       "      <th>AwayTeamGoalsConcededLast5</th>\n",
       "      <th>HomeTeamLostLast</th>\n",
       "      <th>AwayTeamLostLast</th>\n",
       "    </tr>\n",
       "  </thead>\n",
       "  <tbody>\n",
       "    <tr>\n",
       "      <th>0</th>\n",
       "      <td>1.73</td>\n",
       "      <td>3.40</td>\n",
       "      <td>5.25</td>\n",
       "      <td>1</td>\n",
       "      <td>0</td>\n",
       "      <td>0</td>\n",
       "      <td>8.00</td>\n",
       "      <td>8.00</td>\n",
       "      <td>17.0</td>\n",
       "      <td>6.00</td>\n",
       "      <td>8.0</td>\n",
       "      <td>13.0</td>\n",
       "      <td>2</td>\n",
       "      <td>6</td>\n",
       "      <td>11.0</td>\n",
       "      <td>6.0</td>\n",
       "      <td>5.0</td>\n",
       "      <td>1.0</td>\n",
       "      <td>1.0</td>\n",
       "      <td>1.0</td>\n",
       "    </tr>\n",
       "    <tr>\n",
       "      <th>1</th>\n",
       "      <td>1.90</td>\n",
       "      <td>3.00</td>\n",
       "      <td>4.50</td>\n",
       "      <td>1</td>\n",
       "      <td>0</td>\n",
       "      <td>0</td>\n",
       "      <td>6.00</td>\n",
       "      <td>4.00</td>\n",
       "      <td>5.0</td>\n",
       "      <td>3.00</td>\n",
       "      <td>7.0</td>\n",
       "      <td>0.0</td>\n",
       "      <td>0</td>\n",
       "      <td>0</td>\n",
       "      <td>8.0</td>\n",
       "      <td>1.0</td>\n",
       "      <td>9.0</td>\n",
       "      <td>7.0</td>\n",
       "      <td>0.0</td>\n",
       "      <td>0.0</td>\n",
       "    </tr>\n",
       "    <tr>\n",
       "      <th>2</th>\n",
       "      <td>1.73</td>\n",
       "      <td>3.40</td>\n",
       "      <td>5.25</td>\n",
       "      <td>1</td>\n",
       "      <td>0</td>\n",
       "      <td>0</td>\n",
       "      <td>13.00</td>\n",
       "      <td>11.00</td>\n",
       "      <td>11.0</td>\n",
       "      <td>6.00</td>\n",
       "      <td>11.0</td>\n",
       "      <td>10.0</td>\n",
       "      <td>5</td>\n",
       "      <td>1</td>\n",
       "      <td>7.0</td>\n",
       "      <td>10.0</td>\n",
       "      <td>2.0</td>\n",
       "      <td>4.0</td>\n",
       "      <td>1.0</td>\n",
       "      <td>1.0</td>\n",
       "    </tr>\n",
       "    <tr>\n",
       "      <th>3</th>\n",
       "      <td>1.72</td>\n",
       "      <td>3.00</td>\n",
       "      <td>5.00</td>\n",
       "      <td>1</td>\n",
       "      <td>0</td>\n",
       "      <td>0</td>\n",
       "      <td>10.00</td>\n",
       "      <td>7.00</td>\n",
       "      <td>7.0</td>\n",
       "      <td>2.00</td>\n",
       "      <td>3.0</td>\n",
       "      <td>7.0</td>\n",
       "      <td>0</td>\n",
       "      <td>6</td>\n",
       "      <td>1.0</td>\n",
       "      <td>4.0</td>\n",
       "      <td>7.0</td>\n",
       "      <td>3.0</td>\n",
       "      <td>0.0</td>\n",
       "      <td>1.0</td>\n",
       "    </tr>\n",
       "    <tr>\n",
       "      <th>4</th>\n",
       "      <td>1.66</td>\n",
       "      <td>3.60</td>\n",
       "      <td>5.25</td>\n",
       "      <td>0</td>\n",
       "      <td>1</td>\n",
       "      <td>0</td>\n",
       "      <td>10.00</td>\n",
       "      <td>11.00</td>\n",
       "      <td>10.0</td>\n",
       "      <td>7.00</td>\n",
       "      <td>10.0</td>\n",
       "      <td>10.0</td>\n",
       "      <td>1</td>\n",
       "      <td>0</td>\n",
       "      <td>10.0</td>\n",
       "      <td>14.0</td>\n",
       "      <td>4.0</td>\n",
       "      <td>8.0</td>\n",
       "      <td>1.0</td>\n",
       "      <td>0.0</td>\n",
       "    </tr>\n",
       "    <tr>\n",
       "      <th>...</th>\n",
       "      <td>...</td>\n",
       "      <td>...</td>\n",
       "      <td>...</td>\n",
       "      <td>...</td>\n",
       "      <td>...</td>\n",
       "      <td>...</td>\n",
       "      <td>...</td>\n",
       "      <td>...</td>\n",
       "      <td>...</td>\n",
       "      <td>...</td>\n",
       "      <td>...</td>\n",
       "      <td>...</td>\n",
       "      <td>...</td>\n",
       "      <td>...</td>\n",
       "      <td>...</td>\n",
       "      <td>...</td>\n",
       "      <td>...</td>\n",
       "      <td>...</td>\n",
       "      <td>...</td>\n",
       "      <td>...</td>\n",
       "    </tr>\n",
       "    <tr>\n",
       "      <th>2375</th>\n",
       "      <td>1.80</td>\n",
       "      <td>3.60</td>\n",
       "      <td>5.25</td>\n",
       "      <td>0</td>\n",
       "      <td>0</td>\n",
       "      <td>1</td>\n",
       "      <td>5.00</td>\n",
       "      <td>6.00</td>\n",
       "      <td>3.0</td>\n",
       "      <td>6.00</td>\n",
       "      <td>5.0</td>\n",
       "      <td>3.0</td>\n",
       "      <td>0</td>\n",
       "      <td>1</td>\n",
       "      <td>3.0</td>\n",
       "      <td>5.0</td>\n",
       "      <td>4.0</td>\n",
       "      <td>10.0</td>\n",
       "      <td>0.0</td>\n",
       "      <td>1.0</td>\n",
       "    </tr>\n",
       "    <tr>\n",
       "      <th>2376</th>\n",
       "      <td>1.66</td>\n",
       "      <td>3.40</td>\n",
       "      <td>5.50</td>\n",
       "      <td>0</td>\n",
       "      <td>0</td>\n",
       "      <td>1</td>\n",
       "      <td>7.00</td>\n",
       "      <td>4.00</td>\n",
       "      <td>7.0</td>\n",
       "      <td>4.00</td>\n",
       "      <td>6.0</td>\n",
       "      <td>5.0</td>\n",
       "      <td>0</td>\n",
       "      <td>1</td>\n",
       "      <td>5.0</td>\n",
       "      <td>9.0</td>\n",
       "      <td>6.0</td>\n",
       "      <td>9.0</td>\n",
       "      <td>0.0</td>\n",
       "      <td>1.0</td>\n",
       "    </tr>\n",
       "    <tr>\n",
       "      <th>2377</th>\n",
       "      <td>1.72</td>\n",
       "      <td>3.60</td>\n",
       "      <td>5.00</td>\n",
       "      <td>0</td>\n",
       "      <td>1</td>\n",
       "      <td>0</td>\n",
       "      <td>10.00</td>\n",
       "      <td>10.00</td>\n",
       "      <td>6.0</td>\n",
       "      <td>2.00</td>\n",
       "      <td>12.0</td>\n",
       "      <td>6.0</td>\n",
       "      <td>0</td>\n",
       "      <td>1</td>\n",
       "      <td>7.0</td>\n",
       "      <td>3.0</td>\n",
       "      <td>2.0</td>\n",
       "      <td>13.0</td>\n",
       "      <td>0.0</td>\n",
       "      <td>1.0</td>\n",
       "    </tr>\n",
       "    <tr>\n",
       "      <th>2378</th>\n",
       "      <td>1.57</td>\n",
       "      <td>4.33</td>\n",
       "      <td>5.50</td>\n",
       "      <td>1</td>\n",
       "      <td>0</td>\n",
       "      <td>0</td>\n",
       "      <td>8.75</td>\n",
       "      <td>0.00</td>\n",
       "      <td>5.0</td>\n",
       "      <td>10.00</td>\n",
       "      <td>8.0</td>\n",
       "      <td>7.0</td>\n",
       "      <td>4</td>\n",
       "      <td>2</td>\n",
       "      <td>5.0</td>\n",
       "      <td>7.0</td>\n",
       "      <td>4.0</td>\n",
       "      <td>7.0</td>\n",
       "      <td>1.0</td>\n",
       "      <td>1.0</td>\n",
       "    </tr>\n",
       "    <tr>\n",
       "      <th>2379</th>\n",
       "      <td>1.73</td>\n",
       "      <td>3.40</td>\n",
       "      <td>5.25</td>\n",
       "      <td>1</td>\n",
       "      <td>0</td>\n",
       "      <td>0</td>\n",
       "      <td>7.50</td>\n",
       "      <td>8.75</td>\n",
       "      <td>5.0</td>\n",
       "      <td>3.75</td>\n",
       "      <td>3.0</td>\n",
       "      <td>4.0</td>\n",
       "      <td>0</td>\n",
       "      <td>0</td>\n",
       "      <td>3.0</td>\n",
       "      <td>2.0</td>\n",
       "      <td>7.0</td>\n",
       "      <td>4.0</td>\n",
       "      <td>0.0</td>\n",
       "      <td>0.0</td>\n",
       "    </tr>\n",
       "  </tbody>\n",
       "</table>\n",
       "<p>2380 rows × 20 columns</p>\n",
       "</div>"
      ],
      "text/plain": [
       "      B365H  B365D  B365A  H  D  A  HomeTeamAtHomeTeamPoints  \\\n",
       "0      1.73   3.40   5.25  1  0  0                      8.00   \n",
       "1      1.90   3.00   4.50  1  0  0                      6.00   \n",
       "2      1.73   3.40   5.25  1  0  0                     13.00   \n",
       "3      1.72   3.00   5.00  1  0  0                     10.00   \n",
       "4      1.66   3.60   5.25  0  1  0                     10.00   \n",
       "...     ...    ...    ... .. .. ..                       ...   \n",
       "2375   1.80   3.60   5.25  0  0  1                      5.00   \n",
       "2376   1.66   3.40   5.50  0  0  1                      7.00   \n",
       "2377   1.72   3.60   5.00  0  1  0                     10.00   \n",
       "2378   1.57   4.33   5.50  1  0  0                      8.75   \n",
       "2379   1.73   3.40   5.25  1  0  0                      7.50   \n",
       "\n",
       "      AwayTeamFromHomeTeamPoints  ScoredAtHomeTeam5  ScoredAwayTeam5  \\\n",
       "0                           8.00               17.0             6.00   \n",
       "1                           4.00                5.0             3.00   \n",
       "2                          11.00               11.0             6.00   \n",
       "3                           7.00                7.0             2.00   \n",
       "4                          11.00               10.0             7.00   \n",
       "...                          ...                ...              ...   \n",
       "2375                        6.00                3.0             6.00   \n",
       "2376                        4.00                7.0             4.00   \n",
       "2377                       10.00                6.0             2.00   \n",
       "2378                        0.00                5.0            10.00   \n",
       "2379                        8.75                5.0             3.75   \n",
       "\n",
       "      HomeTeamPoints  AwayTeamPoints  HomeTeamUnBeatenStreak  \\\n",
       "0                8.0            13.0                       2   \n",
       "1                7.0             0.0                       0   \n",
       "2               11.0            10.0                       5   \n",
       "3                3.0             7.0                       0   \n",
       "4               10.0            10.0                       1   \n",
       "...              ...             ...                     ...   \n",
       "2375             5.0             3.0                       0   \n",
       "2376             6.0             5.0                       0   \n",
       "2377            12.0             6.0                       0   \n",
       "2378             8.0             7.0                       4   \n",
       "2379             3.0             4.0                       0   \n",
       "\n",
       "      AwayTeamUnBeatenStreak  HomeTeamGoalsScoredLast5  \\\n",
       "0                          6                      11.0   \n",
       "1                          0                       8.0   \n",
       "2                          1                       7.0   \n",
       "3                          6                       1.0   \n",
       "4                          0                      10.0   \n",
       "...                      ...                       ...   \n",
       "2375                       1                       3.0   \n",
       "2376                       1                       5.0   \n",
       "2377                       1                       7.0   \n",
       "2378                       2                       5.0   \n",
       "2379                       0                       3.0   \n",
       "\n",
       "      AwayTeamGoalsScoredLast5  HomeTeamGoalsConcededLast5  \\\n",
       "0                          6.0                         5.0   \n",
       "1                          1.0                         9.0   \n",
       "2                         10.0                         2.0   \n",
       "3                          4.0                         7.0   \n",
       "4                         14.0                         4.0   \n",
       "...                        ...                         ...   \n",
       "2375                       5.0                         4.0   \n",
       "2376                       9.0                         6.0   \n",
       "2377                       3.0                         2.0   \n",
       "2378                       7.0                         4.0   \n",
       "2379                       2.0                         7.0   \n",
       "\n",
       "      AwayTeamGoalsConcededLast5  HomeTeamLostLast  AwayTeamLostLast  \n",
       "0                            1.0               1.0               1.0  \n",
       "1                            7.0               0.0               0.0  \n",
       "2                            4.0               1.0               1.0  \n",
       "3                            3.0               0.0               1.0  \n",
       "4                            8.0               1.0               0.0  \n",
       "...                          ...               ...               ...  \n",
       "2375                        10.0               0.0               1.0  \n",
       "2376                         9.0               0.0               1.0  \n",
       "2377                        13.0               0.0               1.0  \n",
       "2378                         7.0               1.0               1.0  \n",
       "2379                         4.0               0.0               0.0  \n",
       "\n",
       "[2380 rows x 20 columns]"
      ]
     },
     "metadata": {},
     "output_type": "display_data"
    }
   ],
   "source": [
    "display(Final55)"
   ]
  },
  {
   "cell_type": "code",
   "execution_count": 128,
   "metadata": {},
   "outputs": [
    {
     "ename": "FileNotFoundError",
     "evalue": "[Errno 2] No such file or directory: 'Data/DataBase.csv'",
     "output_type": "error",
     "traceback": [
      "\u001b[1;31m---------------------------------------------------------------------------\u001b[0m",
      "\u001b[1;31mFileNotFoundError\u001b[0m                         Traceback (most recent call last)",
      "\u001b[1;32m<ipython-input-128-f6f9f191a590>\u001b[0m in \u001b[0;36m<module>\u001b[1;34m\u001b[0m\n\u001b[1;32m----> 1\u001b[1;33m \u001b[0mFinal55\u001b[0m\u001b[1;33m.\u001b[0m\u001b[0mto_csv\u001b[0m\u001b[1;33m(\u001b[0m\u001b[1;34m'Data/DataBase.csv'\u001b[0m\u001b[1;33m)\u001b[0m\u001b[1;33m\u001b[0m\u001b[1;33m\u001b[0m\u001b[0m\n\u001b[0m\u001b[0;32m      2\u001b[0m \u001b[0mOdds55\u001b[0m\u001b[1;33m.\u001b[0m\u001b[0mto_csv\u001b[0m\u001b[1;33m(\u001b[0m\u001b[1;34m'Data/Odds.csv'\u001b[0m\u001b[1;33m)\u001b[0m\u001b[1;33m\u001b[0m\u001b[1;33m\u001b[0m\u001b[0m\n\u001b[0;32m      3\u001b[0m \u001b[0mFinal\u001b[0m\u001b[1;33m.\u001b[0m\u001b[0mto_csv\u001b[0m\u001b[1;33m(\u001b[0m\u001b[1;34m'Data/Info.csv'\u001b[0m\u001b[1;33m)\u001b[0m\u001b[1;33m\u001b[0m\u001b[1;33m\u001b[0m\u001b[0m\n",
      "\u001b[1;32m~\\anaconda3\\lib\\site-packages\\pandas\\core\\generic.py\u001b[0m in \u001b[0;36mto_csv\u001b[1;34m(self, path_or_buf, sep, na_rep, float_format, columns, header, index, index_label, mode, encoding, compression, quoting, quotechar, line_terminator, chunksize, date_format, doublequote, escapechar, decimal)\u001b[0m\n\u001b[0;32m   3202\u001b[0m             \u001b[0mdecimal\u001b[0m\u001b[1;33m=\u001b[0m\u001b[0mdecimal\u001b[0m\u001b[1;33m,\u001b[0m\u001b[1;33m\u001b[0m\u001b[1;33m\u001b[0m\u001b[0m\n\u001b[0;32m   3203\u001b[0m         )\n\u001b[1;32m-> 3204\u001b[1;33m         \u001b[0mformatter\u001b[0m\u001b[1;33m.\u001b[0m\u001b[0msave\u001b[0m\u001b[1;33m(\u001b[0m\u001b[1;33m)\u001b[0m\u001b[1;33m\u001b[0m\u001b[1;33m\u001b[0m\u001b[0m\n\u001b[0m\u001b[0;32m   3205\u001b[0m \u001b[1;33m\u001b[0m\u001b[0m\n\u001b[0;32m   3206\u001b[0m         \u001b[1;32mif\u001b[0m \u001b[0mpath_or_buf\u001b[0m \u001b[1;32mis\u001b[0m \u001b[1;32mNone\u001b[0m\u001b[1;33m:\u001b[0m\u001b[1;33m\u001b[0m\u001b[1;33m\u001b[0m\u001b[0m\n",
      "\u001b[1;32m~\\anaconda3\\lib\\site-packages\\pandas\\io\\formats\\csvs.py\u001b[0m in \u001b[0;36msave\u001b[1;34m(self)\u001b[0m\n\u001b[0;32m    186\u001b[0m                 \u001b[0mself\u001b[0m\u001b[1;33m.\u001b[0m\u001b[0mmode\u001b[0m\u001b[1;33m,\u001b[0m\u001b[1;33m\u001b[0m\u001b[1;33m\u001b[0m\u001b[0m\n\u001b[0;32m    187\u001b[0m                 \u001b[0mencoding\u001b[0m\u001b[1;33m=\u001b[0m\u001b[0mself\u001b[0m\u001b[1;33m.\u001b[0m\u001b[0mencoding\u001b[0m\u001b[1;33m,\u001b[0m\u001b[1;33m\u001b[0m\u001b[1;33m\u001b[0m\u001b[0m\n\u001b[1;32m--> 188\u001b[1;33m                 \u001b[0mcompression\u001b[0m\u001b[1;33m=\u001b[0m\u001b[0mdict\u001b[0m\u001b[1;33m(\u001b[0m\u001b[0mself\u001b[0m\u001b[1;33m.\u001b[0m\u001b[0mcompression_args\u001b[0m\u001b[1;33m,\u001b[0m \u001b[0mmethod\u001b[0m\u001b[1;33m=\u001b[0m\u001b[0mself\u001b[0m\u001b[1;33m.\u001b[0m\u001b[0mcompression\u001b[0m\u001b[1;33m)\u001b[0m\u001b[1;33m,\u001b[0m\u001b[1;33m\u001b[0m\u001b[1;33m\u001b[0m\u001b[0m\n\u001b[0m\u001b[0;32m    189\u001b[0m             )\n\u001b[0;32m    190\u001b[0m             \u001b[0mclose\u001b[0m \u001b[1;33m=\u001b[0m \u001b[1;32mTrue\u001b[0m\u001b[1;33m\u001b[0m\u001b[1;33m\u001b[0m\u001b[0m\n",
      "\u001b[1;32m~\\anaconda3\\lib\\site-packages\\pandas\\io\\common.py\u001b[0m in \u001b[0;36mget_handle\u001b[1;34m(path_or_buf, mode, encoding, compression, memory_map, is_text)\u001b[0m\n\u001b[0;32m    426\u001b[0m         \u001b[1;32mif\u001b[0m \u001b[0mencoding\u001b[0m\u001b[1;33m:\u001b[0m\u001b[1;33m\u001b[0m\u001b[1;33m\u001b[0m\u001b[0m\n\u001b[0;32m    427\u001b[0m             \u001b[1;31m# Encoding\u001b[0m\u001b[1;33m\u001b[0m\u001b[1;33m\u001b[0m\u001b[1;33m\u001b[0m\u001b[0m\n\u001b[1;32m--> 428\u001b[1;33m             \u001b[0mf\u001b[0m \u001b[1;33m=\u001b[0m \u001b[0mopen\u001b[0m\u001b[1;33m(\u001b[0m\u001b[0mpath_or_buf\u001b[0m\u001b[1;33m,\u001b[0m \u001b[0mmode\u001b[0m\u001b[1;33m,\u001b[0m \u001b[0mencoding\u001b[0m\u001b[1;33m=\u001b[0m\u001b[0mencoding\u001b[0m\u001b[1;33m,\u001b[0m \u001b[0mnewline\u001b[0m\u001b[1;33m=\u001b[0m\u001b[1;34m\"\"\u001b[0m\u001b[1;33m)\u001b[0m\u001b[1;33m\u001b[0m\u001b[1;33m\u001b[0m\u001b[0m\n\u001b[0m\u001b[0;32m    429\u001b[0m         \u001b[1;32melif\u001b[0m \u001b[0mis_text\u001b[0m\u001b[1;33m:\u001b[0m\u001b[1;33m\u001b[0m\u001b[1;33m\u001b[0m\u001b[0m\n\u001b[0;32m    430\u001b[0m             \u001b[1;31m# No explicit encoding\u001b[0m\u001b[1;33m\u001b[0m\u001b[1;33m\u001b[0m\u001b[1;33m\u001b[0m\u001b[0m\n",
      "\u001b[1;31mFileNotFoundError\u001b[0m: [Errno 2] No such file or directory: 'Data/DataBase.csv'"
     ]
    }
   ],
   "source": [
    "Final55.to_csv('Data/DataBase.csv')\n",
    "Odds55.to_csv('Data/Odds.csv')\n",
    "Final.to_csv('Data/Info.csv')"
   ]
  },
  {
   "cell_type": "code",
   "execution_count": null,
   "metadata": {},
   "outputs": [],
   "source": [
    "def FilterFirst5(data):\n",
    "    data = data[(data.HomeTeamMatchDay > 8) & (data.AwayTeamMatchDay > 8)]\n",
    "    \n",
    "    return data"
   ]
  }
 ],
 "metadata": {
  "kernelspec": {
   "display_name": "Python 3",
   "language": "python",
   "name": "python3"
  },
  "language_info": {
   "codemirror_mode": {
    "name": "ipython",
    "version": 3
   },
   "file_extension": ".py",
   "mimetype": "text/x-python",
   "name": "python",
   "nbconvert_exporter": "python",
   "pygments_lexer": "ipython3",
   "version": "3.7.6"
  }
 },
 "nbformat": 4,
 "nbformat_minor": 2
}
